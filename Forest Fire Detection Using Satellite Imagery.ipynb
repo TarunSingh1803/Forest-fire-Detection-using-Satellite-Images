{
 "cells": [
  {
   "cell_type": "markdown",
   "id": "90e90b13",
   "metadata": {},
   "source": [
    "<h1 style=\"text-align: center;\">Forest Fire Detection using Computer Vision</h1>\n"
   ]
  },
  {
   "cell_type": "markdown",
   "id": "94ef512b",
   "metadata": {},
   "source": [
    "## 1. Problem Statement\n",
    "\n",
    "Imagine you are in charge of watching a big forest. You want to keep everyone safe, but sometimes wildfires can start without warning. These fires can spread quickly and cause a lot of damage. So, we want to build a computer program that can look at pictures of forests and tell us if there’s a fire starting or not. This program can help people react faster to stop wildfires!"
   ]
  },
  {
   "cell_type": "markdown",
   "id": "08357b18",
   "metadata": {},
   "source": [
    "## 2. Objectives\n",
    "\n",
    "This project will:\n",
    "\n",
    "    Teach the computer to recognize pictures with wildfires and without wildfires.\n",
    "    Build a model (a smart program) that looks at forest pictures and decides if there’s a fire.\n",
    "    Show us a simple screen (a GUI) where we can upload forest pictures and get quick answers on fire danger.\n",
    "    Help keep forests and people safe by giving early warnings about fires."
   ]
  },
  {
   "cell_type": "markdown",
   "id": "e4a2dcae",
   "metadata": {},
   "source": [
    "### 3. Dataset Information\n",
    "\n",
    "To teach the computer about wildfires, we’ll use a special set of pictures called a dataset. This dataset has pictures of forests divided into two types: with a fire (wildfire) and without a fire (no wildfire). These images help the computer learn to tell the difference.\n",
    "\n",
    "    Where to Get the Dataset: You can download the dataset from Kaggle \n",
    "    https://www.kaggle.com/datasets/abdelghaniaaba/wildfire-prediction-dataset\n",
    "    Dataset Folders:\n",
    "        Inside, there are three main folders: train, test, and valid.\n",
    "        Each folder has two subfolders:\n",
    "            Wildfire: Contains pictures showing wildfires in forests.\n",
    "            NoWildfire: Contains pictures showing forests without any fire."
   ]
  },
  {
   "cell_type": "markdown",
   "id": "07122406",
   "metadata": {},
   "source": [
    "## 4. Understanding the CNN Model\n",
    "\n",
    "CNN stands for Convolutional Neural Network. It’s a special type of program that can look at pictures and learn to find important details. Imagine how you look at a picture and notice trees, animals, or fire — CNN does something similar!\n",
    "\n",
    "Here’s how it works, step-by-step:\n",
    "\n",
    "    Looking at Patterns: The CNN looks at lots of tiny patterns in pictures, like shapes and colors.\n",
    "    Learning from Examples: It looks at many images of wildfires and no wildfires to learn what makes them different.\n",
    "    Making Predictions: Once trained, the CNN can look at a new picture and guess if it shows a fire or not."
   ]
  },
  {
   "cell_type": "markdown",
   "id": "f4b50b7c",
   "metadata": {},
   "source": [
    "## 5. Code Implementation\n"
   ]
  },
  {
   "cell_type": "markdown",
   "id": "c3fe6f7d",
   "metadata": {},
   "source": [
    "### Step 1: Importing Libraries\n",
    "\n",
    "We’ll use Python with TensorFlow/Keras for the CNN model and Tkinter for the GUI. Make sure you have these libraries installed."
   ]
  },
  {
   "cell_type": "code",
   "execution_count": 1,
   "id": "0c2cd988",
   "metadata": {},
   "outputs": [],
   "source": [
    "import tensorflow as tf\n",
    "from tensorflow.keras.preprocessing.image import ImageDataGenerator\n",
    "from tensorflow.keras.models import Sequential\n",
    "from tensorflow.keras.layers import Conv2D, MaxPooling2D, Flatten, Dense, Dropout\n",
    "import tkinter as tk\n",
    "from tkinter import filedialog\n",
    "from PIL import Image, ImageTk\n",
    "import numpy as np"
   ]
  },
  {
   "cell_type": "markdown",
   "id": "3c14fa31",
   "metadata": {},
   "source": [
    "### Step 2: Loading and Preprocessing the Data\n",
    "\n",
    "We'll use ImageDataGenerator to load images from your dataset's train, valid, and test folders. This will resize and normalize images so our model can use them."
   ]
  },
  {
   "cell_type": "code",
   "execution_count": 2,
   "id": "cf66f542",
   "metadata": {},
   "outputs": [
    {
     "name": "stdout",
     "output_type": "stream",
     "text": [
      "Found 30250 images belonging to 2 classes.\n",
      "Found 6300 images belonging to 2 classes.\n",
      "Found 6300 images belonging to 2 classes.\n"
     ]
    }
   ],
   "source": [
    "# Set up directories\n",
    "train_dir = r\"C:\\Users\\Tarun Singh\\OneDrive\\Desktop\\Green Skill\\Dataset\\Wildfire\\train\"\n",
    "valid_dir = r\"C:\\Users\\Tarun Singh\\OneDrive\\Desktop\\Green Skill\\Dataset\\Wildfire\\valid\"\n",
    "test_dir = r\"C:\\Users\\Tarun Singh\\OneDrive\\Desktop\\Green Skill\\Dataset\\Wildfire\\test\"\n",
    "\n",
    "# Set up ImageDataGenerators for loading images\n",
    "train_datagen = ImageDataGenerator(rescale=1./255)\n",
    "valid_datagen = ImageDataGenerator(rescale=1./255)\n",
    "test_datagen = ImageDataGenerator(rescale=1./255)\n",
    "\n",
    "# Load images from directories\n",
    "train_generator = train_datagen.flow_from_directory(train_dir, target_size=(64, 64), batch_size=32, class_mode='binary')\n",
    "valid_generator = valid_datagen.flow_from_directory(valid_dir, target_size=(64, 64), batch_size=32, class_mode='binary')\n",
    "test_generator = test_datagen.flow_from_directory(test_dir, target_size=(64, 64), batch_size=32, class_mode='binary')\n"
   ]
  },
  {
   "cell_type": "markdown",
   "id": "9dae8a9b",
   "metadata": {},
   "source": [
    "### Step 3: Building the CNN Model\n",
    "\n",
    "The CNN model will have multiple convolutional layers to extract features, followed by dense layers for classification."
   ]
  },
  {
   "cell_type": "code",
   "execution_count": 3,
   "id": "6d769b3c",
   "metadata": {},
   "outputs": [
    {
     "name": "stderr",
     "output_type": "stream",
     "text": [
      "d:\\Anaconda\\Lib\\site-packages\\keras\\src\\layers\\convolutional\\base_conv.py:107: UserWarning: Do not pass an `input_shape`/`input_dim` argument to a layer. When using Sequential models, prefer using an `Input(shape)` object as the first layer in the model instead.\n",
      "  super().__init__(activity_regularizer=activity_regularizer, **kwargs)\n"
     ]
    }
   ],
   "source": [
    "# Building a simple CNN model\n",
    "model = Sequential([\n",
    "    Conv2D(32, (3, 3), activation='relu', input_shape=(64, 64, 3)),\n",
    "    MaxPooling2D(pool_size=(2, 2)),\n",
    "    Conv2D(64, (3, 3), activation='relu'),\n",
    "    MaxPooling2D(pool_size=(2, 2)),\n",
    "    Flatten(),\n",
    "    Dense(128, activation='relu'),\n",
    "    Dropout(0.5),\n",
    "    Dense(1, activation='sigmoid')  # Binary classification: wildfire or no wildfire\n",
    "])\n",
    "\n",
    "# Compile the model\n",
    "model.compile(optimizer='adam', loss='binary_crossentropy', metrics=['accuracy'])\n"
   ]
  },
  {
   "cell_type": "markdown",
   "id": "d09f932c",
   "metadata": {},
   "source": [
    "We noticed some images in our dataset are incomplete or corrupted, causing TensorFlow to fail when trying to load them. \n",
    "Here are a few steps to handle this issue:\n",
    "\n",
    "Solution: Skip Corrupted Images\n",
    "\n",
    "One way to handle this is to modify the data loading process to skip over corrupted images.\n",
    "\n",
    "    Re-import the PIL library with a setting that will ignore truncated images.\n",
    "\n",
    "    We add this line at the beginning of your script."
   ]
  },
  {
   "cell_type": "code",
   "execution_count": 4,
   "id": "3ba1f311",
   "metadata": {},
   "outputs": [],
   "source": [
    "from PIL import ImageFile\n",
    "ImageFile.LOAD_TRUNCATED_IMAGES = True\n"
   ]
  },
  {
   "cell_type": "markdown",
   "id": "3edd949f",
   "metadata": {},
   "source": [
    "### Step 4: Training the Model\n",
    "\n",
    "Train the model with the train and valid data."
   ]
  },
  {
   "cell_type": "code",
   "execution_count": 5,
   "id": "a516875b",
   "metadata": {},
   "outputs": [
    {
     "name": "stderr",
     "output_type": "stream",
     "text": [
      "d:\\Anaconda\\Lib\\site-packages\\keras\\src\\trainers\\data_adapters\\py_dataset_adapter.py:121: UserWarning: Your `PyDataset` class should call `super().__init__(**kwargs)` in its constructor. `**kwargs` can include `workers`, `use_multiprocessing`, `max_queue_size`. Do not pass these arguments to `fit()`, as they will be ignored.\n",
      "  self._warn_if_super_not_called()\n"
     ]
    },
    {
     "name": "stdout",
     "output_type": "stream",
     "text": [
      "Epoch 1/10\n",
      "\u001b[1m946/946\u001b[0m \u001b[32m━━━━━━━━━━━━━━━━━━━━\u001b[0m\u001b[37m\u001b[0m \u001b[1m111s\u001b[0m 116ms/step - accuracy: 0.8647 - loss: 0.2993 - val_accuracy: 0.9410 - val_loss: 0.1588\n",
      "Epoch 2/10\n",
      "\u001b[1m946/946\u001b[0m \u001b[32m━━━━━━━━━━━━━━━━━━━━\u001b[0m\u001b[37m\u001b[0m \u001b[1m104s\u001b[0m 109ms/step - accuracy: 0.9350 - loss: 0.1775 - val_accuracy: 0.9273 - val_loss: 0.1729\n",
      "Epoch 3/10\n",
      "\u001b[1m946/946\u001b[0m \u001b[32m━━━━━━━━━━━━━━━━━━━━\u001b[0m\u001b[37m\u001b[0m \u001b[1m89s\u001b[0m 94ms/step - accuracy: 0.9397 - loss: 0.1627 - val_accuracy: 0.9424 - val_loss: 0.1447\n",
      "Epoch 4/10\n",
      "\u001b[1m946/946\u001b[0m \u001b[32m━━━━━━━━━━━━━━━━━━━━\u001b[0m\u001b[37m\u001b[0m \u001b[1m93s\u001b[0m 99ms/step - accuracy: 0.9478 - loss: 0.1456 - val_accuracy: 0.9576 - val_loss: 0.1168\n",
      "Epoch 5/10\n",
      "\u001b[1m946/946\u001b[0m \u001b[32m━━━━━━━━━━━━━━━━━━━━\u001b[0m\u001b[37m\u001b[0m \u001b[1m117s\u001b[0m 124ms/step - accuracy: 0.9507 - loss: 0.1355 - val_accuracy: 0.9533 - val_loss: 0.1248\n",
      "Epoch 6/10\n",
      "\u001b[1m946/946\u001b[0m \u001b[32m━━━━━━━━━━━━━━━━━━━━\u001b[0m\u001b[37m\u001b[0m \u001b[1m104s\u001b[0m 110ms/step - accuracy: 0.9552 - loss: 0.1235 - val_accuracy: 0.9581 - val_loss: 0.1157\n",
      "Epoch 7/10\n",
      "\u001b[1m946/946\u001b[0m \u001b[32m━━━━━━━━━━━━━━━━━━━━\u001b[0m\u001b[37m\u001b[0m \u001b[1m100s\u001b[0m 106ms/step - accuracy: 0.9603 - loss: 0.1063 - val_accuracy: 0.9603 - val_loss: 0.1069\n",
      "Epoch 8/10\n",
      "\u001b[1m946/946\u001b[0m \u001b[32m━━━━━━━━━━━━━━━━━━━━\u001b[0m\u001b[37m\u001b[0m \u001b[1m174s\u001b[0m 184ms/step - accuracy: 0.9662 - loss: 0.0944 - val_accuracy: 0.9540 - val_loss: 0.1277\n",
      "Epoch 9/10\n",
      "\u001b[1m946/946\u001b[0m \u001b[32m━━━━━━━━━━━━━━━━━━━━\u001b[0m\u001b[37m\u001b[0m \u001b[1m201s\u001b[0m 213ms/step - accuracy: 0.9704 - loss: 0.0798 - val_accuracy: 0.9584 - val_loss: 0.1274\n",
      "Epoch 10/10\n",
      "\u001b[1m946/946\u001b[0m \u001b[32m━━━━━━━━━━━━━━━━━━━━\u001b[0m\u001b[37m\u001b[0m \u001b[1m102s\u001b[0m 108ms/step - accuracy: 0.9733 - loss: 0.0749 - val_accuracy: 0.9611 - val_loss: 0.1194\n"
     ]
    }
   ],
   "source": [
    "# Train the model\n",
    "history = model.fit(train_generator, validation_data=valid_generator, epochs=10, verbose=1)\n"
   ]
  },
  {
   "cell_type": "markdown",
   "id": "424321a8",
   "metadata": {},
   "source": [
    "### Step 5: Building the GUI with Tkinter\n",
    "\n",
    "Now, let’s create a GUI that lets us upload an image and predict if there’s a wildfire."
   ]
  },
  {
   "cell_type": "code",
   "execution_count": 6,
   "id": "ae03e0b9",
   "metadata": {},
   "outputs": [
    {
     "name": "stdout",
     "output_type": "stream",
     "text": [
      "\u001b[1m1/1\u001b[0m \u001b[32m━━━━━━━━━━━━━━━━━━━━\u001b[0m\u001b[37m\u001b[0m \u001b[1m0s\u001b[0m 182ms/step\n"
     ]
    }
   ],
   "source": [
    "# Function to load and predict an image\n",
    "def predict_image():\n",
    "    # Open file dialog to select an image\n",
    "    file_path = filedialog.askopenfilename()\n",
    "    if file_path:\n",
    "        # Display the image in the GUI\n",
    "        img = Image.open(file_path)\n",
    "        img = img.resize((200, 200))\n",
    "        img = ImageTk.PhotoImage(img)\n",
    "        image_label.configure(image=img)\n",
    "        image_label.image = img\n",
    "\n",
    "        # Preprocess the image for the model\n",
    "        img_for_model = Image.open(file_path).resize((64, 64))\n",
    "        img_array = np.array(img_for_model) / 255.0  # Rescale like during training\n",
    "        img_array = np.expand_dims(img_array, axis=0)  # Add batch dimension\n",
    "\n",
    "        # Make a prediction\n",
    "        prediction = model.predict(img_array)[0][0]\n",
    "        result = \"Wildfire\" if prediction > 0.5 else \"No Wildfire\"\n",
    "        result_label.config(text=\"Prediction: \" + result)\n",
    "\n",
    "# Setting up the GUI window\n",
    "root = tk.Tk()\n",
    "root.title(\"Forest Fire Detection\")\n",
    "root.geometry(\"400x400\")\n",
    "\n",
    "# Add widgets\n",
    "btn = tk.Button(root, text=\"Upload Image\", command=predict_image)\n",
    "btn.pack(pady=20)\n",
    "\n",
    "image_label = tk.Label(root)\n",
    "image_label.pack()\n",
    "\n",
    "result_label = tk.Label(root, text=\"Prediction: \", font=(\"Helvetica\", 16))\n",
    "result_label.pack(pady=20)\n",
    "\n",
    "root.mainloop()\n"
   ]
  },
  {
   "cell_type": "markdown",
   "id": "440d2fa3",
   "metadata": {},
   "source": [
    "### Step 6: Testing the Model\n",
    "\n",
    "You can now use the GUI to test the model. Click \"Upload Image,\" select an image, and the GUI will display the image and predict if it shows a wildfire or not."
   ]
  },
  {
   "cell_type": "markdown",
   "id": "998624f6",
   "metadata": {},
   "source": [
    "## 5. Conclusion\n",
    "\n",
    "With this project, we have created a simple computer program that helps spot wildfires early by looking at pictures of forests. This project shows how computer vision, a field that teaches computers to see and understand images, can help us make safer decisions for people and nature. Using CNN, we taught the computer to recognize fires, giving us a way to respond faster and prevent fires from spreading."
   ]
  },
  {
   "cell_type": "code",
   "execution_count": null,
   "id": "89b2943c",
   "metadata": {},
   "outputs": [
    {
     "name": "stderr",
     "output_type": "stream",
     "text": [
      "WARNING:absl:You are saving your model as an HDF5 file via `model.save()` or `keras.saving.save_model(model)`. This file format is considered legacy. We recommend using instead the native Keras format, e.g. `model.save('my_model.keras')` or `keras.saving.save_model(model, 'my_model.keras')`. \n"
     ]
    }
   ],
   "source": [
    "# Save the model = wildfire_detection_model\n",
    "model.save('wildfire_detection_model.h5')"
   ]
  }
 ],
 "metadata": {
  "kernelspec": {
   "display_name": "base",
   "language": "python",
   "name": "python3"
  },
  "language_info": {
   "codemirror_mode": {
    "name": "ipython",
    "version": 3
   },
   "file_extension": ".py",
   "mimetype": "text/x-python",
   "name": "python",
   "nbconvert_exporter": "python",
   "pygments_lexer": "ipython3",
   "version": "3.12.7"
  }
 },
 "nbformat": 4,
 "nbformat_minor": 5
}
